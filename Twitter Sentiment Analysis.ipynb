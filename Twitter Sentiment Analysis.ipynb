{
 "cells": [
  {
   "cell_type": "code",
   "execution_count": 1,
   "metadata": {},
   "outputs": [
    {
     "name": "stdout",
     "output_type": "stream",
     "text": [
      "Requirement already satisfied: tweepy in d:\\anaconda python\\lib\\site-packages (4.10.1)\n",
      "Requirement already satisfied: oauthlib<4,>=3.2.0 in d:\\anaconda python\\lib\\site-packages (from tweepy) (3.2.2)\n",
      "Requirement already satisfied: requests-oauthlib<2,>=1.2.0 in d:\\anaconda python\\lib\\site-packages (from tweepy) (1.3.1)\n",
      "Requirement already satisfied: requests<3,>=2.27.0 in d:\\anaconda python\\lib\\site-packages (from tweepy) (2.27.1)\n",
      "Requirement already satisfied: urllib3<1.27,>=1.21.1 in d:\\anaconda python\\lib\\site-packages (from requests<3,>=2.27.0->tweepy) (1.26.9)\n",
      "Requirement already satisfied: charset-normalizer~=2.0.0 in d:\\anaconda python\\lib\\site-packages (from requests<3,>=2.27.0->tweepy) (2.0.4)\n",
      "Requirement already satisfied: certifi>=2017.4.17 in d:\\anaconda python\\lib\\site-packages (from requests<3,>=2.27.0->tweepy) (2021.10.8)\n",
      "Requirement already satisfied: idna<4,>=2.5 in d:\\anaconda python\\lib\\site-packages (from requests<3,>=2.27.0->tweepy) (3.3)\n",
      "Requirement already satisfied: vaderSentiment in d:\\anaconda python\\lib\\site-packages (3.3.2)\n",
      "Requirement already satisfied: requests in d:\\anaconda python\\lib\\site-packages (from vaderSentiment) (2.27.1)\n",
      "Requirement already satisfied: idna<4,>=2.5 in d:\\anaconda python\\lib\\site-packages (from requests->vaderSentiment) (3.3)\n",
      "Requirement already satisfied: charset-normalizer~=2.0.0 in d:\\anaconda python\\lib\\site-packages (from requests->vaderSentiment) (2.0.4)\n",
      "Requirement already satisfied: certifi>=2017.4.17 in d:\\anaconda python\\lib\\site-packages (from requests->vaderSentiment) (2021.10.8)\n",
      "Requirement already satisfied: urllib3<1.27,>=1.21.1 in d:\\anaconda python\\lib\\site-packages (from requests->vaderSentiment) (1.26.9)\n"
     ]
    }
   ],
   "source": [
    "!pip install tweepy\n",
    "! pip install vaderSentiment"
   ]
  },
  {
   "cell_type": "code",
   "execution_count": 2,
   "metadata": {
    "id": "UrRZLYhB17HZ"
   },
   "outputs": [],
   "source": [
    "# load packages\n",
    "# Note: please install the Tweepy package if you haven't\n",
    "#       to do so, run \"pip install tweepy\" on your command line\n",
    "\n",
    "# Tweepy allows us to access the twitter API in python\n",
    "import tweepy  \n",
    "\n",
    "# Pandas wil lallow us to extract tweets/users and load the data into dataframe \n",
    "import pandas as pd\n",
    "\n",
    "# JSON will allow us to work with JSON files\n",
    "import json\n",
    "\n",
    "# json_normalize() will allows us to normalize semi-structured JSON data into a flat table\n",
    "from pandas import json_normalize\n",
    "\n",
    "from collections import Counter"
   ]
  },
  {
   "cell_type": "markdown",
   "metadata": {
    "id": "KJs3175h17Hc"
   },
   "source": [
    "You should now be able to input the correct values below"
   ]
  },
  {
   "cell_type": "code",
   "execution_count": 3,
   "metadata": {
    "id": "ySRJ3uHf17Hc"
   },
   "outputs": [],
   "source": [
    "# Variables that contain the credentials to access Twitter API\n",
    "# Use your own key and tokens instead\n",
    "consumer_key    = \"JCeDkTdmEYZpAoD9oW6mPGr\"\n",
    "consumer _secret = \"1egGe9VtdkZtoza1NuxiETn3MZfl2LJbr8xiClOafmZgDkVN\"\n",
    "access_key      = \"1484113915722498052-pQLSRVT0KkhOl61LDmQPnZ1HqV95\"\n",
    "access_secret   = \"3uiAQkQXajEqdzM0RVJAeA1YQQEZbvvgKII6T8hbgQ2\"\n",
    "\n",
    "# Setup access to API\n",
    "auth = tweepy.OAuthHandler(consumer_key, consumer_secret)\n",
    "auth.set_access_token(access_key, access_secret)\n",
    "\n",
    "# create the API object\n",
    "api = tweepy.API(auth)"
   ]
  },
  {
   "cell_type": "markdown",
   "metadata": {
    "id": "5vHNaZIR17Hf"
   },
   "source": [
    "Now, just to make sure it worked, let's check the most recent tweets from your own timeline."
   ]
  },
  {
   "cell_type": "code",
   "execution_count": 4,
   "metadata": {
    "colab": {
     "base_uri": "https://localhost:8080/"
    },
    "executionInfo": {
     "elapsed": 790,
     "status": "ok",
     "timestamp": 1633450057598,
     "user": {
      "displayName": "Leonardo Luchetti",
      "photoUrl": "https://lh3.googleusercontent.com/a-/AOh14GiQWM_XoLmHFbdkrZRGl2hNKsKyxqf0COjeIlFjTg=s64",
      "userId": "05854504905374019893"
     },
     "user_tz": 240
    },
    "id": "M7aFT8Pi17Hg",
    "outputId": "80ecc7b4-2383-4ccb-f165-4781741b9963"
   },
   "outputs": [
    {
     "name": "stdout",
     "output_type": "stream",
     "text": [
      "If coziness has a fragrance, it’s the aroma of red wine simmering on the stove with citrus and spices. https://t.co/wETWa4zZ0e\n",
      "Works on any moving land object https://t.co/Xu4qKJW4D9\n",
      "RT @nicoagrant: A disappointing quarter for Google's parent Alphabet would be a fabulous quarter for most other companies. It made $13.9 bi…\n",
      "Tonight's debate between Dr. Mehmet Oz, a Republican, and Lt. Gov. John Fetterman, a Democrat, may be critical to d… https://t.co/wVr7Jobyyg\n",
      "Gov. Kathy Hochul of New York and her Republican opponent, Rep. Lee Zeldin, will meet Tuesday night for the first a… https://t.co/qiDcg2p8wN\n"
     ]
    }
   ],
   "source": [
    "# most recent 5 tweets from your twitter timeline\n",
    "recent_tweets = api.home_timeline(count=5)\n",
    "for tweet in recent_tweets:\n",
    "    print(tweet.text)"
   ]
  },
  {
   "cell_type": "markdown",
   "metadata": {
    "id": "YqkKI5yj17Hj"
   },
   "source": [
    "Yes! We got a bunch of tweets from our timeline!  This isn't practically very helpful, but it shows us how we can use Twitter's API to get data. In fact, Tweepy API is a really powerful tool:\n",
    "- it has many methods that we can use\n",
    "- it gives us a very convenient way to fetch large volumes of data"
   ]
  },
  {
   "cell_type": "markdown",
   "metadata": {
    "id": "FjEFGbUZ17Hj"
   },
   "source": [
    "## 2. Getting a user's tweets "
   ]
  },
  {
   "cell_type": "markdown",
   "metadata": {
    "id": "LbkhBOpP17Hk"
   },
   "source": [
    "- First use the user_timeline method with the correct argument to get the last 100 tweets of the user \"iamchitrang\"\n",
    "- Print the text of the first 10 tweets"
   ]
  },
  {
   "cell_type": "code",
   "execution_count": 5,
   "metadata": {
    "colab": {
     "base_uri": "https://localhost:8080/"
    },
    "executionInfo": {
     "elapsed": 1149,
     "status": "ok",
     "timestamp": 1633450062592,
     "user": {
      "displayName": "Leonardo Luchetti",
      "photoUrl": "https://lh3.googleusercontent.com/a-/AOh14GiQWM_XoLmHFbdkrZRGl2hNKsKyxqf0COjeIlFjTg=s64",
      "userId": "05854504905374019893"
     },
     "user_tz": 240
    },
    "id": "etbxzuZA17Hk",
    "outputId": "73411bf4-dca3-41ff-ef14-0b53230d31a4"
   },
   "outputs": [
    {
     "name": "stdout",
     "output_type": "stream",
     "text": [
      "@dggoldst Same!!\n",
      "@BenHanowell @AyalChenZion but to disown someone for..getting a job?\n",
      "@BenHanowell @AyalChenZion That person probably only cared for what they could get from you. Not for you.\n",
      "@Andrew___Baker lieutenant is also great\n",
      "@CZimm_economist more on economists on twitter and their followers: https://t.co/N6htGSiuaJ\n",
      "\n",
      "(we used REPEC to get our seed data!)\n",
      "@johnjhorton nice attempt to get into our Slack, John https://t.co/fkRQ6opdkL\n",
      "@AndreyFradkin I'm sure @BrianCAlbrecht  has opinions!\n",
      "@dggoldst @johnjhorton Dan Goldstein, a renowned Wisdom scholar, wrote recently in one of his papers that...\n",
      "@KhoaVuUmn It's super effective!\n",
      "RT @johnjhorton: Imagine you transferred a good to a group you expected to have MPC = 0 (i.e., just saved it), but instead, some \"over-cons…\n"
     ]
    }
   ],
   "source": [
    "screen_name = \"iamchitrang\"\n",
    "count = 100\n",
    "tweets = api.user_timeline(screen_name=screen_name,count = count)\n",
    "\n",
    "for tweet in tweets[:10]:\n",
    "    print(tweet.text)"
   ]
  },
  {
   "cell_type": "markdown",
   "metadata": {
    "id": "7AYwDB-Y17Hn"
   },
   "source": [
    "### Note:\n",
    "\n",
    "The **user_timeline** function returns a \"tweet\" object. \n",
    "\n",
    "According to [Twitter API's official documenttation](https://developer.twitter.com/en/docs/twitter-api/v1/data-dictionary/overview/tweet-object), each tweet object has a long list of attributes that you can access, including the text attribute we used above. \n",
    "- You can access each attribute as you access JSON attributes. JSON is a file format used widely.\n",
    "- You can either work with all of the attributes, or pick up the most relevant features that you want. \n",
    "- Of course, we can always extract the attributes we're interested, and put them in a dataframe."
   ]
  },
  {
   "cell_type": "code",
   "execution_count": null,
   "metadata": {
    "id": "SMRkXRln17Hn"
   },
   "outputs": [],
   "source": [
    "# for all tweets that you scraped in the last step, extract the following features\n",
    "# (i) the unique integer identifier of the tweet\n",
    "# (ii) the utf-8 text of the tweet\n",
    "# (iii) the utc time of the tweet \n",
    "# (iv) the device used to write the tweet\n",
    "# (v) the number of retweets the tweet has received\n",
    "# (vi) the number of likes the tweet has received\n",
    "# append these attributes as the values of a dictionary for each tweet to a list called \"tweet_list\""
   ]
  },
  {
   "cell_type": "code",
   "execution_count": 6,
   "metadata": {},
   "outputs": [],
   "source": [
    "ID = []\n",
    "tweets = []\n",
    "likes = []\n",
    "time = []\n",
    "retweet = []\n",
    "Source = []\n",
    "for i in tweepy.Cursor(api.user_timeline, screen_name='iamchitrang',tweet_mode=\"extended\").items(100):\n",
    "    ID.append(i.id)\n",
    "    tweets.append(i.full_text)\n",
    "    likes.append(i.favorite_count)\n",
    "    time.append(i.created_at)\n",
    "    retweet.append(i.retweet_count)\n",
    "    Source.append(i.source)"
   ]
  },
  {
   "cell_type": "code",
   "execution_count": 19,
   "metadata": {},
   "outputs": [],
   "source": [
    "# put these attributes to a pandas dataframe"
   ]
  },
  {
   "cell_type": "code",
   "execution_count": 7,
   "metadata": {},
   "outputs": [],
   "source": [
    "df = pd.DataFrame({'ID':ID,'tweet_list':tweets,'Date & Time':time,'Source':Source,'retweet':retweet,'likes':likes})"
   ]
  },
  {
   "cell_type": "code",
   "execution_count": 8,
   "metadata": {},
   "outputs": [
    {
     "data": {
      "text/html": [
       "<div>\n",
       "<style scoped>\n",
       "    .dataframe tbody tr th:only-of-type {\n",
       "        vertical-align: middle;\n",
       "    }\n",
       "\n",
       "    .dataframe tbody tr th {\n",
       "        vertical-align: top;\n",
       "    }\n",
       "\n",
       "    .dataframe thead th {\n",
       "        text-align: right;\n",
       "    }\n",
       "</style>\n",
       "<table border=\"1\" class=\"dataframe\">\n",
       "  <thead>\n",
       "    <tr style=\"text-align: right;\">\n",
       "      <th></th>\n",
       "      <th>ID</th>\n",
       "      <th>tweet_list</th>\n",
       "      <th>Date &amp; Time</th>\n",
       "      <th>Source</th>\n",
       "      <th>retweet</th>\n",
       "      <th>likes</th>\n",
       "    </tr>\n",
       "  </thead>\n",
       "  <tbody>\n",
       "    <tr>\n",
       "      <th>0</th>\n",
       "      <td>1585032352971251713</td>\n",
       "      <td>@dggoldst Same!!</td>\n",
       "      <td>2022-10-25 22:15:36+00:00</td>\n",
       "      <td>Twitter Web App</td>\n",
       "      <td>0</td>\n",
       "      <td>1</td>\n",
       "    </tr>\n",
       "    <tr>\n",
       "      <th>1</th>\n",
       "      <td>1578957434164760580</td>\n",
       "      <td>@BenHanowell @AyalChenZion but to disown someo...</td>\n",
       "      <td>2022-10-09 03:56:02+00:00</td>\n",
       "      <td>Twitter Web App</td>\n",
       "      <td>0</td>\n",
       "      <td>0</td>\n",
       "    </tr>\n",
       "    <tr>\n",
       "      <th>2</th>\n",
       "      <td>1578953019143557120</td>\n",
       "      <td>@BenHanowell @AyalChenZion That person probabl...</td>\n",
       "      <td>2022-10-09 03:38:29+00:00</td>\n",
       "      <td>Twitter Web App</td>\n",
       "      <td>0</td>\n",
       "      <td>0</td>\n",
       "    </tr>\n",
       "    <tr>\n",
       "      <th>3</th>\n",
       "      <td>1573500088479006723</td>\n",
       "      <td>@Andrew___Baker lieutenant is also great</td>\n",
       "      <td>2022-09-24 02:30:29+00:00</td>\n",
       "      <td>Twitter Web App</td>\n",
       "      <td>0</td>\n",
       "      <td>0</td>\n",
       "    </tr>\n",
       "    <tr>\n",
       "      <th>4</th>\n",
       "      <td>1570863809484693504</td>\n",
       "      <td>@CZimm_economist more on economists on twitter...</td>\n",
       "      <td>2022-09-16 19:54:52+00:00</td>\n",
       "      <td>Twitter Web App</td>\n",
       "      <td>0</td>\n",
       "      <td>1</td>\n",
       "    </tr>\n",
       "    <tr>\n",
       "      <th>5</th>\n",
       "      <td>1570843041182945281</td>\n",
       "      <td>@johnjhorton nice attempt to get into our Slac...</td>\n",
       "      <td>2022-09-16 18:32:20+00:00</td>\n",
       "      <td>Twitter Web App</td>\n",
       "      <td>0</td>\n",
       "      <td>2</td>\n",
       "    </tr>\n",
       "    <tr>\n",
       "      <th>6</th>\n",
       "      <td>1570837926535372806</td>\n",
       "      <td>@AndreyFradkin I'm sure @BrianCAlbrecht  has o...</td>\n",
       "      <td>2022-09-16 18:12:01+00:00</td>\n",
       "      <td>Twitter Web App</td>\n",
       "      <td>0</td>\n",
       "      <td>2</td>\n",
       "    </tr>\n",
       "    <tr>\n",
       "      <th>7</th>\n",
       "      <td>1569874741644648448</td>\n",
       "      <td>@dggoldst @johnjhorton Dan Goldstein, a renown...</td>\n",
       "      <td>2022-09-14 02:24:39+00:00</td>\n",
       "      <td>Twitter Web App</td>\n",
       "      <td>0</td>\n",
       "      <td>2</td>\n",
       "    </tr>\n",
       "    <tr>\n",
       "      <th>8</th>\n",
       "      <td>1554846393679896577</td>\n",
       "      <td>@KhoaVuUmn It's super effective!</td>\n",
       "      <td>2022-08-03 15:07:22+00:00</td>\n",
       "      <td>Twitter Web App</td>\n",
       "      <td>0</td>\n",
       "      <td>5</td>\n",
       "    </tr>\n",
       "    <tr>\n",
       "      <th>9</th>\n",
       "      <td>1553109935109677061</td>\n",
       "      <td>RT @johnjhorton: Imagine you transferred a goo...</td>\n",
       "      <td>2022-07-29 20:07:18+00:00</td>\n",
       "      <td>Twitter Web App</td>\n",
       "      <td>2</td>\n",
       "      <td>0</td>\n",
       "    </tr>\n",
       "  </tbody>\n",
       "</table>\n",
       "</div>"
      ],
      "text/plain": [
       "                    ID                                         tweet_list  \\\n",
       "0  1585032352971251713                                   @dggoldst Same!!   \n",
       "1  1578957434164760580  @BenHanowell @AyalChenZion but to disown someo...   \n",
       "2  1578953019143557120  @BenHanowell @AyalChenZion That person probabl...   \n",
       "3  1573500088479006723           @Andrew___Baker lieutenant is also great   \n",
       "4  1570863809484693504  @CZimm_economist more on economists on twitter...   \n",
       "5  1570843041182945281  @johnjhorton nice attempt to get into our Slac...   \n",
       "6  1570837926535372806  @AndreyFradkin I'm sure @BrianCAlbrecht  has o...   \n",
       "7  1569874741644648448  @dggoldst @johnjhorton Dan Goldstein, a renown...   \n",
       "8  1554846393679896577                   @KhoaVuUmn It's super effective!   \n",
       "9  1553109935109677061  RT @johnjhorton: Imagine you transferred a goo...   \n",
       "\n",
       "                Date & Time           Source  retweet  likes  \n",
       "0 2022-10-25 22:15:36+00:00  Twitter Web App        0      1  \n",
       "1 2022-10-09 03:56:02+00:00  Twitter Web App        0      0  \n",
       "2 2022-10-09 03:38:29+00:00  Twitter Web App        0      0  \n",
       "3 2022-09-24 02:30:29+00:00  Twitter Web App        0      0  \n",
       "4 2022-09-16 19:54:52+00:00  Twitter Web App        0      1  \n",
       "5 2022-09-16 18:32:20+00:00  Twitter Web App        0      2  \n",
       "6 2022-09-16 18:12:01+00:00  Twitter Web App        0      2  \n",
       "7 2022-09-14 02:24:39+00:00  Twitter Web App        0      2  \n",
       "8 2022-08-03 15:07:22+00:00  Twitter Web App        0      5  \n",
       "9 2022-07-29 20:07:18+00:00  Twitter Web App        2      0  "
      ]
     },
     "execution_count": 8,
     "metadata": {},
     "output_type": "execute_result"
    }
   ],
   "source": [
    "df_last = df[::1]\n",
    "df_last.head(10)"
   ]
  },
  {
   "cell_type": "markdown",
   "metadata": {
    "id": "6YqWK4CA17Hu"
   },
   "source": [
    "This is a good foundation for you to to start with your twitter data analysis. Example studies could include\n",
    "- text analysis, such as sentiment analysis and topic modeling\n",
    "- summarize some usage patterns of a celebrity. For example, some data scientists analyzed Trump's usage patterns to tell whether and when Trump used a ghost writer instead of writing his own Tweets\n",
    "-  ** your idea goes here! **"
   ]
  },
  {
   "cell_type": "markdown",
   "metadata": {
    "id": "UN0-RssU17Hu"
   },
   "source": [
    "## 3. Getting user objects - followers"
   ]
  },
  {
   "cell_type": "markdown",
   "metadata": {
    "id": "3usa9-1R17Hv"
   },
   "source": [
    "Scrape information for all followers of a user. You may choose the \"iamchitrang\" account, or any other account you want that has between 100 and 1000 followers. Store the information on a dataframe. The information should include:\n",
    "- the follower's id\n",
    "- the follower's name\n",
    "- the follower's screen name\n",
    "- the follower's location\n",
    "- the follower's description\n",
    "- the follower's profile url\n",
    "- the follower's follower count\n",
    "- the follower's followee count\n",
    "- the follower's favorites count"
   ]
  },
  {
   "cell_type": "markdown",
   "metadata": {
    "id": "q60yTZL817H9"
   },
   "source": [
    "This example shows there are multiple ways to extract twitter data into a dataframe. It really depends on your task to choose the proper method.\n",
    "\n",
    "1. We can look into the attributes, and pick the ones we need as we did for tweets\n",
    "   - Pros: the result is more precise\n",
    "   - Cons: more manual work, have the risk of losing some data \n",
    "   \n",
    "  \n",
    "2. We can also keep all the attributes and dump them into json as we did for followers\n",
    "   - Pros: more data, less manual filtering \n",
    "   - Cons: the result is clumsy"
   ]
  },
  {
   "cell_type": "code",
   "execution_count": 9,
   "metadata": {},
   "outputs": [],
   "source": [
    "followers = [[follower.id,follower.name,follower.screen_name,follower.location,follower.description,'https://twitter.com/'+follower.screen_name,follower.followers_count,follower.favourites_count,follower.friends_count] for follower in api.get_followers(screen_name = screen_name,count = 100)]"
   ]
  },
  {
   "cell_type": "code",
   "execution_count": 10,
   "metadata": {},
   "outputs": [
    {
     "data": {
      "text/html": [
       "<div>\n",
       "<style scoped>\n",
       "    .dataframe tbody tr th:only-of-type {\n",
       "        vertical-align: middle;\n",
       "    }\n",
       "\n",
       "    .dataframe tbody tr th {\n",
       "        vertical-align: top;\n",
       "    }\n",
       "\n",
       "    .dataframe thead th {\n",
       "        text-align: right;\n",
       "    }\n",
       "</style>\n",
       "<table border=\"1\" class=\"dataframe\">\n",
       "  <thead>\n",
       "    <tr style=\"text-align: right;\">\n",
       "      <th></th>\n",
       "      <th>ID</th>\n",
       "      <th>Name</th>\n",
       "      <th>Screen Name</th>\n",
       "      <th>Location</th>\n",
       "      <th>Description</th>\n",
       "      <th>Profile URL</th>\n",
       "      <th>Followers Count</th>\n",
       "      <th>Favourites Count</th>\n",
       "      <th>Following Count</th>\n",
       "    </tr>\n",
       "  </thead>\n",
       "  <tbody>\n",
       "    <tr>\n",
       "      <th>0</th>\n",
       "      <td>1584686156821762048</td>\n",
       "      <td>KEN_Lu</td>\n",
       "      <td>KENLu45691923</td>\n",
       "      <td></td>\n",
       "      <td></td>\n",
       "      <td>https://twitter.com/KENLu45691923</td>\n",
       "      <td>0</td>\n",
       "      <td>0</td>\n",
       "      <td>1</td>\n",
       "    </tr>\n",
       "    <tr>\n",
       "      <th>1</th>\n",
       "      <td>1355220096</td>\n",
       "      <td>Leonard Mazzone</td>\n",
       "      <td>Lenmazzone</td>\n",
       "      <td>New York, NY</td>\n",
       "      <td>Software Engineer, Writer, MBA and former Film...</td>\n",
       "      <td>https://twitter.com/Lenmazzone</td>\n",
       "      <td>91</td>\n",
       "      <td>15</td>\n",
       "      <td>267</td>\n",
       "    </tr>\n",
       "    <tr>\n",
       "      <th>2</th>\n",
       "      <td>1426550821844488196</td>\n",
       "      <td>pavasg_</td>\n",
       "      <td>pavas222</td>\n",
       "      <td></td>\n",
       "      <td>UArizona Economics, English, and Philo. Freque...</td>\n",
       "      <td>https://twitter.com/pavas222</td>\n",
       "      <td>58</td>\n",
       "      <td>2504</td>\n",
       "      <td>1527</td>\n",
       "    </tr>\n",
       "    <tr>\n",
       "      <th>3</th>\n",
       "      <td>1959071580</td>\n",
       "      <td>Bernardo de Moura</td>\n",
       "      <td>deMouraBernardo</td>\n",
       "      <td>Santiago, Chile</td>\n",
       "      <td>Nerd-Dad, Zombie-Dad, Outdoorsy-Dad, One-more-...</td>\n",
       "      <td>https://twitter.com/deMouraBernardo</td>\n",
       "      <td>223</td>\n",
       "      <td>2629</td>\n",
       "      <td>1976</td>\n",
       "    </tr>\n",
       "    <tr>\n",
       "      <th>4</th>\n",
       "      <td>2378506692</td>\n",
       "      <td>Fat Yoshi</td>\n",
       "      <td>FatY0sh1</td>\n",
       "      <td>West New York, NJ</td>\n",
       "      <td></td>\n",
       "      <td>https://twitter.com/FatY0sh1</td>\n",
       "      <td>45</td>\n",
       "      <td>179</td>\n",
       "      <td>73</td>\n",
       "    </tr>\n",
       "    <tr>\n",
       "      <th>5</th>\n",
       "      <td>1513561614435373062</td>\n",
       "      <td>Martin Serramo</td>\n",
       "      <td>martin_serramo</td>\n",
       "      <td>Chicago</td>\n",
       "      <td>Curious.</td>\n",
       "      <td>https://twitter.com/martin_serramo</td>\n",
       "      <td>25</td>\n",
       "      <td>1072</td>\n",
       "      <td>340</td>\n",
       "    </tr>\n",
       "    <tr>\n",
       "      <th>6</th>\n",
       "      <td>808051518242979841</td>\n",
       "      <td>SwissCognitive, World-Leading AI Network</td>\n",
       "      <td>SwissCognitive</td>\n",
       "      <td>Switzerland</td>\n",
       "      <td>Cross-industry global community of business le...</td>\n",
       "      <td>https://twitter.com/SwissCognitive</td>\n",
       "      <td>149408</td>\n",
       "      <td>16357</td>\n",
       "      <td>106940</td>\n",
       "    </tr>\n",
       "    <tr>\n",
       "      <th>7</th>\n",
       "      <td>2330683771</td>\n",
       "      <td>Martín</td>\n",
       "      <td>mrtnserramo</td>\n",
       "      <td></td>\n",
       "      <td>curioso</td>\n",
       "      <td>https://twitter.com/mrtnserramo</td>\n",
       "      <td>25</td>\n",
       "      <td>4835</td>\n",
       "      <td>758</td>\n",
       "    </tr>\n",
       "    <tr>\n",
       "      <th>8</th>\n",
       "      <td>1541588756565790722</td>\n",
       "      <td>Big Data Energy</td>\n",
       "      <td>bayesianbro</td>\n",
       "      <td>The woods</td>\n",
       "      <td>Whisky sipper, casual inferer, aspiring optimi...</td>\n",
       "      <td>https://twitter.com/bayesianbro</td>\n",
       "      <td>78</td>\n",
       "      <td>351</td>\n",
       "      <td>1870</td>\n",
       "    </tr>\n",
       "    <tr>\n",
       "      <th>9</th>\n",
       "      <td>77684723</td>\n",
       "      <td>Zaiyan Wei</td>\n",
       "      <td>zaiyan_w</td>\n",
       "      <td>West Lafayette, IN</td>\n",
       "      <td>#Economics, #InformationSystems, #FinTech</td>\n",
       "      <td>https://twitter.com/zaiyan_w</td>\n",
       "      <td>114</td>\n",
       "      <td>7</td>\n",
       "      <td>153</td>\n",
       "    </tr>\n",
       "  </tbody>\n",
       "</table>\n",
       "</div>"
      ],
      "text/plain": [
       "                    ID                                      Name  \\\n",
       "0  1584686156821762048                                    KEN_Lu   \n",
       "1           1355220096                           Leonard Mazzone   \n",
       "2  1426550821844488196                                   pavasg_   \n",
       "3           1959071580                         Bernardo de Moura   \n",
       "4           2378506692                                 Fat Yoshi   \n",
       "5  1513561614435373062                            Martin Serramo   \n",
       "6   808051518242979841  SwissCognitive, World-Leading AI Network   \n",
       "7           2330683771                                    Martín   \n",
       "8  1541588756565790722                           Big Data Energy   \n",
       "9             77684723                                Zaiyan Wei   \n",
       "\n",
       "       Screen Name            Location  \\\n",
       "0    KENLu45691923                       \n",
       "1       Lenmazzone        New York, NY   \n",
       "2         pavas222                       \n",
       "3  deMouraBernardo     Santiago, Chile   \n",
       "4         FatY0sh1   West New York, NJ   \n",
       "5   martin_serramo             Chicago   \n",
       "6   SwissCognitive         Switzerland   \n",
       "7      mrtnserramo                       \n",
       "8      bayesianbro           The woods   \n",
       "9         zaiyan_w  West Lafayette, IN   \n",
       "\n",
       "                                         Description  \\\n",
       "0                                                      \n",
       "1  Software Engineer, Writer, MBA and former Film...   \n",
       "2  UArizona Economics, English, and Philo. Freque...   \n",
       "3  Nerd-Dad, Zombie-Dad, Outdoorsy-Dad, One-more-...   \n",
       "4                                                      \n",
       "5                                           Curious.   \n",
       "6  Cross-industry global community of business le...   \n",
       "7                                            curioso   \n",
       "8  Whisky sipper, casual inferer, aspiring optimi...   \n",
       "9          #Economics, #InformationSystems, #FinTech   \n",
       "\n",
       "                           Profile URL  Followers Count  Favourites Count  \\\n",
       "0    https://twitter.com/KENLu45691923                0                 0   \n",
       "1       https://twitter.com/Lenmazzone               91                15   \n",
       "2         https://twitter.com/pavas222               58              2504   \n",
       "3  https://twitter.com/deMouraBernardo              223              2629   \n",
       "4         https://twitter.com/FatY0sh1               45               179   \n",
       "5   https://twitter.com/martin_serramo               25              1072   \n",
       "6   https://twitter.com/SwissCognitive           149408             16357   \n",
       "7      https://twitter.com/mrtnserramo               25              4835   \n",
       "8      https://twitter.com/bayesianbro               78               351   \n",
       "9         https://twitter.com/zaiyan_w              114                 7   \n",
       "\n",
       "   Following Count  \n",
       "0                1  \n",
       "1              267  \n",
       "2             1527  \n",
       "3             1976  \n",
       "4               73  \n",
       "5              340  \n",
       "6           106940  \n",
       "7              758  \n",
       "8             1870  \n",
       "9              153  "
      ]
     },
     "execution_count": 10,
     "metadata": {},
     "output_type": "execute_result"
    }
   ],
   "source": [
    "columns = [\"ID\",\"Name\",\"Screen Name\",\"Location\",\"Description\",\"Profile URL\",\"Followers Count\",\"Favourites Count\",\"Following Count\"]\n",
    "df = pd.DataFrame(followers, columns=columns)\n",
    "df.head(10)"
   ]
  },
  {
   "cell_type": "markdown",
   "metadata": {
    "id": "xKCmtok217H9"
   },
   "source": [
    "## 4. Case study: Elon Musk on Twitter"
   ]
  },
  {
   "cell_type": "markdown",
   "metadata": {
    "id": "y0E7Xl1017H9"
   },
   "source": [
    "Let's go through an example about how to do some basic data analysis with twitter API. \n",
    "\n",
    "- First extract 400 tweets from Elon Musk's twitter account"
   ]
  },
  {
   "cell_type": "code",
   "execution_count": 11,
   "metadata": {},
   "outputs": [],
   "source": [
    "tweets = []\n",
    "for i in tweepy.Cursor(api.user_timeline, screen_name='elonmusk',tweet_mode=\"extended\").items(400):\n",
    "    tweets.append(i.full_text)"
   ]
  },
  {
   "cell_type": "code",
   "execution_count": 12,
   "metadata": {},
   "outputs": [],
   "source": [
    "df = pd.DataFrame({'tweet_list':tweets})"
   ]
  },
  {
   "cell_type": "code",
   "execution_count": 13,
   "metadata": {},
   "outputs": [
    {
     "data": {
      "text/html": [
       "<div>\n",
       "<style scoped>\n",
       "    .dataframe tbody tr th:only-of-type {\n",
       "        vertical-align: middle;\n",
       "    }\n",
       "\n",
       "    .dataframe tbody tr th {\n",
       "        vertical-align: top;\n",
       "    }\n",
       "\n",
       "    .dataframe thead th {\n",
       "        text-align: right;\n",
       "    }\n",
       "</style>\n",
       "<table border=\"1\" class=\"dataframe\">\n",
       "  <thead>\n",
       "    <tr style=\"text-align: right;\">\n",
       "      <th></th>\n",
       "      <th>tweet_list</th>\n",
       "    </tr>\n",
       "  </thead>\n",
       "  <tbody>\n",
       "    <tr>\n",
       "      <th>0</th>\n",
       "      <td>Works on any moving land object https://t.co/X...</td>\n",
       "    </tr>\n",
       "    <tr>\n",
       "      <th>1</th>\n",
       "      <td>@chazman @lexfridman Fasting rocks</td>\n",
       "    </tr>\n",
       "    <tr>\n",
       "      <th>2</th>\n",
       "      <td>@VitalikButerin @balajis @zengjiajun_eth Had t...</td>\n",
       "    </tr>\n",
       "    <tr>\n",
       "      <th>3</th>\n",
       "      <td>@dogeofficialceo @DirtyTesLa @rocobasilisk @Sw...</td>\n",
       "    </tr>\n",
       "    <tr>\n",
       "      <th>4</th>\n",
       "      <td>@garyblack00 @SawyerMerritt One man’s hedge is...</td>\n",
       "    </tr>\n",
       "    <tr>\n",
       "      <th>...</th>\n",
       "      <td>...</td>\n",
       "    </tr>\n",
       "    <tr>\n",
       "      <th>395</th>\n",
       "      <td>Also worth noting that a possible, albeit unli...</td>\n",
       "    </tr>\n",
       "    <tr>\n",
       "      <th>396</th>\n",
       "      <td>This is highly likely to be the outcome in the...</td>\n",
       "    </tr>\n",
       "    <tr>\n",
       "      <th>397</th>\n",
       "      <td>Ukraine-Russia Peace:\\n\\n- Redo elections of a...</td>\n",
       "    </tr>\n",
       "    <tr>\n",
       "      <th>398</th>\n",
       "      <td>@jasondebolt Yes</td>\n",
       "    </tr>\n",
       "    <tr>\n",
       "      <th>399</th>\n",
       "      <td>@jasondebolt That is my assessment too</td>\n",
       "    </tr>\n",
       "  </tbody>\n",
       "</table>\n",
       "<p>400 rows × 1 columns</p>\n",
       "</div>"
      ],
      "text/plain": [
       "                                            tweet_list\n",
       "0    Works on any moving land object https://t.co/X...\n",
       "1                   @chazman @lexfridman Fasting rocks\n",
       "2    @VitalikButerin @balajis @zengjiajun_eth Had t...\n",
       "3    @dogeofficialceo @DirtyTesLa @rocobasilisk @Sw...\n",
       "4    @garyblack00 @SawyerMerritt One man’s hedge is...\n",
       "..                                                 ...\n",
       "395  Also worth noting that a possible, albeit unli...\n",
       "396  This is highly likely to be the outcome in the...\n",
       "397  Ukraine-Russia Peace:\\n\\n- Redo elections of a...\n",
       "398                                   @jasondebolt Yes\n",
       "399             @jasondebolt That is my assessment too\n",
       "\n",
       "[400 rows x 1 columns]"
      ]
     },
     "execution_count": 13,
     "metadata": {},
     "output_type": "execute_result"
    }
   ],
   "source": [
    "df"
   ]
  },
  {
   "cell_type": "markdown",
   "metadata": {
    "id": "ID_XQX_M17IC"
   },
   "source": [
    "- Generate a word cloud with the top 20 words used by elon musk\n",
    "(use the *WordCloud* python module)"
   ]
  },
  {
   "cell_type": "code",
   "execution_count": 14,
   "metadata": {
    "colab": {
     "base_uri": "https://localhost:8080/",
     "height": 563
    },
    "executionInfo": {
     "elapsed": 4282,
     "status": "ok",
     "timestamp": 1633450093656,
     "user": {
      "displayName": "Leonardo Luchetti",
      "photoUrl": "https://lh3.googleusercontent.com/a-/AOh14GiQWM_XoLmHFbdkrZRGl2hNKsKyxqf0COjeIlFjTg=s64",
      "userId": "05854504905374019893"
     },
     "user_tz": 240
    },
    "id": "As3grSd_17ID",
    "outputId": "16415ceb-0068-4ec6-d0f3-948827f59ad5"
   },
   "outputs": [
    {
     "name": "stdout",
     "output_type": "stream",
     "text": [
      "Requirement already satisfied: wordcloud in d:\\anaconda python\\lib\\site-packages (1.8.2.2)\n",
      "Requirement already satisfied: pillow in d:\\anaconda python\\lib\\site-packages (from wordcloud) (9.0.1)\n",
      "Requirement already satisfied: numpy>=1.6.1 in d:\\anaconda python\\lib\\site-packages (from wordcloud) (1.21.5)\n",
      "Requirement already satisfied: matplotlib in d:\\anaconda python\\lib\\site-packages (from wordcloud) (3.5.1)\n",
      "Requirement already satisfied: kiwisolver>=1.0.1 in d:\\anaconda python\\lib\\site-packages (from matplotlib->wordcloud) (1.3.2)\n",
      "Requirement already satisfied: pyparsing>=2.2.1 in d:\\anaconda python\\lib\\site-packages (from matplotlib->wordcloud) (3.0.4)\n",
      "Requirement already satisfied: python-dateutil>=2.7 in d:\\anaconda python\\lib\\site-packages (from matplotlib->wordcloud) (2.8.2)\n",
      "Requirement already satisfied: packaging>=20.0 in d:\\anaconda python\\lib\\site-packages (from matplotlib->wordcloud) (21.3)\n",
      "Requirement already satisfied: fonttools>=4.22.0 in d:\\anaconda python\\lib\\site-packages (from matplotlib->wordcloud) (4.25.0)\n",
      "Requirement already satisfied: cycler>=0.10 in d:\\anaconda python\\lib\\site-packages (from matplotlib->wordcloud) (0.11.0)\n",
      "Requirement already satisfied: six>=1.5 in d:\\anaconda python\\lib\\site-packages (from python-dateutil>=2.7->matplotlib->wordcloud) (1.16.0)\n"
     ]
    }
   ],
   "source": [
    "!pip install wordcloud"
   ]
  },
  {
   "cell_type": "code",
   "execution_count": 15,
   "metadata": {},
   "outputs": [],
   "source": [
    "from wordcloud import WordCloud, STOPWORDS"
   ]
  },
  {
   "cell_type": "code",
   "execution_count": 16,
   "metadata": {},
   "outputs": [
    {
     "data": {
      "image/png": "[encoded data removed]",
      "text/plain": [
       "<Figure size 576x576 with 1 Axes>"
      ]
     },
     "metadata": {
      "needs_background": "light"
     },
     "output_type": "display_data"
    }
   ],
   "source": [
    "import matplotlib.pyplot as plt\n",
    "\n",
    "stopwords = set(STOPWORDS)\n",
    "unique_string=\" \".join(tweets)\n",
    "wordcloud = WordCloud(width = 800, height = 800, max_words=20).generate(unique_string)\n",
    "plt.figure(figsize=(8,8))\n",
    "plt.imshow(wordcloud)\n",
    "plt.axis(\"off\")\n",
    "plt.tight_layout(pad = 0)\n",
    " \n",
    "plt.show()"
   ]
  },
  {
   "cell_type": "markdown",
   "metadata": {
    "id": "S0ikiOd917IF"
   },
   "source": [
    "Use VADER to conduct a simple sentiment analysis.\n",
    "\n",
    "- Sentiment analysis is the interpretation and classification of emotions\n",
    "- VADER is a pre-trained sentiment analysis tool that is specifically attuned to sentiments expressed in social media\n",
    "- We will use it to determine whether a piece of writing is positive, negative or neutral\n",
    "- The sentiment score is usually a float between -1 to 1, from most negative to most positive"
   ]
  },
  {
   "cell_type": "code",
   "execution_count": 17,
   "metadata": {},
   "outputs": [],
   "source": [
    "from vaderSentiment.vaderSentiment import SentimentIntensityAnalyzer\n",
    "\n",
    "# MODIFY THE CODE BELOW TO RUN FOR YOUR DATA\n",
    "\n",
    "## define a function to calculate the sentiment score for each tweet\n",
    "def sentiment_analyzer_scores(text):\n",
    "    analyzer = SentimentIntensityAnalyzer()\n",
    "    score = analyzer.polarity_scores(text)\n",
    "    return score['compound']\n",
    "\n",
    "# apply the function to create the score column\n",
    "df['score'] = df['tweet_list'].apply(lambda x: sentiment_analyzer_scores(x))"
   ]
  },
  {
   "cell_type": "markdown",
   "metadata": {},
   "source": [
    "Now classify tweets that have \n",
    "- score >0 as 'positive', \n",
    "- score 0 as 'neutral', \n",
    "- score <0 as 'negative'"
   ]
  },
  {
   "cell_type": "code",
   "execution_count": 18,
   "metadata": {},
   "outputs": [],
   "source": [
    "df.loc[df['score'] > 0, 'Sentiment'] = 'positive'\n",
    "df.loc[df['score'] < 0, 'Sentiment'] = 'negative'\n",
    "df.loc[df['score'] == 0, 'Sentiment'] = 'neutral'"
   ]
  },
  {
   "cell_type": "code",
   "execution_count": 19,
   "metadata": {},
   "outputs": [
    {
     "data": {
      "text/html": [
       "<div>\n",
       "<style scoped>\n",
       "    .dataframe tbody tr th:only-of-type {\n",
       "        vertical-align: middle;\n",
       "    }\n",
       "\n",
       "    .dataframe tbody tr th {\n",
       "        vertical-align: top;\n",
       "    }\n",
       "\n",
       "    .dataframe thead th {\n",
       "        text-align: right;\n",
       "    }\n",
       "</style>\n",
       "<table border=\"1\" class=\"dataframe\">\n",
       "  <thead>\n",
       "    <tr style=\"text-align: right;\">\n",
       "      <th></th>\n",
       "      <th>tweet_list</th>\n",
       "      <th>score</th>\n",
       "      <th>Sentiment</th>\n",
       "    </tr>\n",
       "  </thead>\n",
       "  <tbody>\n",
       "    <tr>\n",
       "      <th>0</th>\n",
       "      <td>Works on any moving land object https://t.co/X...</td>\n",
       "      <td>0.0000</td>\n",
       "      <td>neutral</td>\n",
       "    </tr>\n",
       "    <tr>\n",
       "      <th>1</th>\n",
       "      <td>@chazman @lexfridman Fasting rocks</td>\n",
       "      <td>0.0000</td>\n",
       "      <td>neutral</td>\n",
       "    </tr>\n",
       "    <tr>\n",
       "      <th>2</th>\n",
       "      <td>@VitalikButerin @balajis @zengjiajun_eth Had t...</td>\n",
       "      <td>0.0000</td>\n",
       "      <td>neutral</td>\n",
       "    </tr>\n",
       "    <tr>\n",
       "      <th>3</th>\n",
       "      <td>@dogeofficialceo @DirtyTesLa @rocobasilisk @Sw...</td>\n",
       "      <td>0.0000</td>\n",
       "      <td>neutral</td>\n",
       "    </tr>\n",
       "    <tr>\n",
       "      <th>4</th>\n",
       "      <td>@garyblack00 @SawyerMerritt One man’s hedge is...</td>\n",
       "      <td>0.0000</td>\n",
       "      <td>neutral</td>\n",
       "    </tr>\n",
       "    <tr>\n",
       "      <th>...</th>\n",
       "      <td>...</td>\n",
       "      <td>...</td>\n",
       "      <td>...</td>\n",
       "    </tr>\n",
       "    <tr>\n",
       "      <th>395</th>\n",
       "      <td>Also worth noting that a possible, albeit unli...</td>\n",
       "      <td>-0.6833</td>\n",
       "      <td>negative</td>\n",
       "    </tr>\n",
       "    <tr>\n",
       "      <th>396</th>\n",
       "      <td>This is highly likely to be the outcome in the...</td>\n",
       "      <td>-0.5994</td>\n",
       "      <td>negative</td>\n",
       "    </tr>\n",
       "    <tr>\n",
       "      <th>397</th>\n",
       "      <td>Ukraine-Russia Peace:\\n\\n- Redo elections of a...</td>\n",
       "      <td>0.5574</td>\n",
       "      <td>positive</td>\n",
       "    </tr>\n",
       "    <tr>\n",
       "      <th>398</th>\n",
       "      <td>@jasondebolt Yes</td>\n",
       "      <td>0.4019</td>\n",
       "      <td>positive</td>\n",
       "    </tr>\n",
       "    <tr>\n",
       "      <th>399</th>\n",
       "      <td>@jasondebolt That is my assessment too</td>\n",
       "      <td>0.0000</td>\n",
       "      <td>neutral</td>\n",
       "    </tr>\n",
       "  </tbody>\n",
       "</table>\n",
       "<p>400 rows × 3 columns</p>\n",
       "</div>"
      ],
      "text/plain": [
       "                                            tweet_list   score Sentiment\n",
       "0    Works on any moving land object https://t.co/X...  0.0000   neutral\n",
       "1                   @chazman @lexfridman Fasting rocks  0.0000   neutral\n",
       "2    @VitalikButerin @balajis @zengjiajun_eth Had t...  0.0000   neutral\n",
       "3    @dogeofficialceo @DirtyTesLa @rocobasilisk @Sw...  0.0000   neutral\n",
       "4    @garyblack00 @SawyerMerritt One man’s hedge is...  0.0000   neutral\n",
       "..                                                 ...     ...       ...\n",
       "395  Also worth noting that a possible, albeit unli... -0.6833  negative\n",
       "396  This is highly likely to be the outcome in the... -0.5994  negative\n",
       "397  Ukraine-Russia Peace:\\n\\n- Redo elections of a...  0.5574  positive\n",
       "398                                   @jasondebolt Yes  0.4019  positive\n",
       "399             @jasondebolt That is my assessment too  0.0000   neutral\n",
       "\n",
       "[400 rows x 3 columns]"
      ]
     },
     "execution_count": 19,
     "metadata": {},
     "output_type": "execute_result"
    }
   ],
   "source": [
    "df"
   ]
  },
  {
   "cell_type": "markdown",
   "metadata": {},
   "source": [
    "Import \"seaborn\" and make a histogram of the number of positive, neutral, and negative tweets"
   ]
  },
  {
   "cell_type": "code",
   "execution_count": 20,
   "metadata": {},
   "outputs": [
    {
     "data": {
      "text/plain": [
       "Text(0.5, 1.0, 'Musk Sentiment')"
      ]
     },
     "execution_count": 20,
     "metadata": {},
     "output_type": "execute_result"
    },
    {
     "data": {
      "image/png": "[encoded data removed]",
      "text/plain": [
       "<Figure size 720x576 with 1 Axes>"
      ]
     },
     "metadata": {
      "needs_background": "light"
     },
     "output_type": "display_data"
    }
   ],
   "source": [
    "## ADAPT THE CODE BELOW TO WORK FOR YOUR DATA\n",
    "\n",
    "import seaborn as sns\n",
    "\n",
    "plt.figure(figsize=(10, 8))\n",
    "sns.set(style=\"darkgrid\")\n",
    "sns.countplot(x=df['Sentiment'], order=['positive', 'neutral', 'negative']).set_title('Musk Sentiment', fontsize=28)"
   ]
  },
  {
   "cell_type": "markdown",
   "metadata": {
    "id": "FeOATVh8uQYT"
   },
   "source": [
    "# 5. Scraping more information\n",
    "\n",
    "Now let's do some work to get more familiar with the twitter API! Please follow the steps below:\n",
    "\n",
    "1. Extract the latest 200 tweets from Tim Cook. (**@tim_cook**)\n",
    "2. Show the overall distribution of his tweets' like counts.\n",
    "3. What's his most liked tweet? What's its sentiment score?"
   ]
  },
  {
   "cell_type": "code",
   "execution_count": null,
   "metadata": {
    "id": "3yZ-e-9zuQYT"
   },
   "outputs": [],
   "source": [
    "# YOUR CODE STARTS FROM HERE"
   ]
  },
  {
   "cell_type": "code",
   "execution_count": 21,
   "metadata": {
    "id": "PwKBO7nGuQYT"
   },
   "outputs": [],
   "source": [
    "tweets = []\n",
    "likes = []\n",
    "for i in tweepy.Cursor(api.user_timeline, screen_name='tim_cook',tweet_mode=\"extended\").items(200):\n",
    "    tweets.append(i.full_text)\n",
    "    likes.append(i.favorite_count)"
   ]
  },
  {
   "cell_type": "code",
   "execution_count": 22,
   "metadata": {
    "id": "xAZ96M2XuQYT"
   },
   "outputs": [],
   "source": [
    "df = pd.DataFrame({'tweet_list':tweets,'likes':likes})"
   ]
  },
  {
   "cell_type": "code",
   "execution_count": 23,
   "metadata": {
    "scrolled": true
   },
   "outputs": [
    {
     "data": {
      "text/html": [
       "<div>\n",
       "<style scoped>\n",
       "    .dataframe tbody tr th:only-of-type {\n",
       "        vertical-align: middle;\n",
       "    }\n",
       "\n",
       "    .dataframe tbody tr th {\n",
       "        vertical-align: top;\n",
       "    }\n",
       "\n",
       "    .dataframe thead th {\n",
       "        text-align: right;\n",
       "    }\n",
       "</style>\n",
       "<table border=\"1\" class=\"dataframe\">\n",
       "  <thead>\n",
       "    <tr style=\"text-align: right;\">\n",
       "      <th></th>\n",
       "      <th>tweet_list</th>\n",
       "      <th>likes</th>\n",
       "    </tr>\n",
       "  </thead>\n",
       "  <tbody>\n",
       "    <tr>\n",
       "      <th>0</th>\n",
       "      <td>Fighting climate change is one of Apple’s most...</td>\n",
       "      <td>1557</td>\n",
       "    </tr>\n",
       "    <tr>\n",
       "      <th>1</th>\n",
       "      <td>This photo beautifully captures why Diwali is ...</td>\n",
       "      <td>48166</td>\n",
       "    </tr>\n",
       "    <tr>\n",
       "      <th>2</th>\n",
       "      <td>Stopped by Apple Domain NORTHSIDE and Apple Ba...</td>\n",
       "      <td>5745</td>\n",
       "    </tr>\n",
       "    <tr>\n",
       "      <th>3</th>\n",
       "      <td>It's been nearly 30 years since Apple opened i...</td>\n",
       "      <td>5749</td>\n",
       "    </tr>\n",
       "    <tr>\n",
       "      <th>4</th>\n",
       "      <td>Our engineering teams in Austin are hard at wo...</td>\n",
       "      <td>27578</td>\n",
       "    </tr>\n",
       "    <tr>\n",
       "      <th>...</th>\n",
       "      <td>...</td>\n",
       "      <td>...</td>\n",
       "    </tr>\n",
       "    <tr>\n",
       "      <th>195</th>\n",
       "      <td>Congratulations to the cast and crew of @TedLa...</td>\n",
       "      <td>12333</td>\n",
       "    </tr>\n",
       "    <tr>\n",
       "      <th>196</th>\n",
       "      <td>One of my all-time favorite shows is back! Cat...</td>\n",
       "      <td>4218</td>\n",
       "    </tr>\n",
       "    <tr>\n",
       "      <th>197</th>\n",
       "      <td>Always great to chat with you @iJustine! So gl...</td>\n",
       "      <td>14361</td>\n",
       "    </tr>\n",
       "    <tr>\n",
       "      <th>198</th>\n",
       "      <td>Introducing iPhone 13 and iPhone 13 Pro, all-n...</td>\n",
       "      <td>35800</td>\n",
       "    </tr>\n",
       "    <tr>\n",
       "      <th>199</th>\n",
       "      <td>Good morning from somewhere a little different...</td>\n",
       "      <td>47734</td>\n",
       "    </tr>\n",
       "  </tbody>\n",
       "</table>\n",
       "<p>200 rows × 2 columns</p>\n",
       "</div>"
      ],
      "text/plain": [
       "                                            tweet_list  likes\n",
       "0    Fighting climate change is one of Apple’s most...   1557\n",
       "1    This photo beautifully captures why Diwali is ...  48166\n",
       "2    Stopped by Apple Domain NORTHSIDE and Apple Ba...   5745\n",
       "3    It's been nearly 30 years since Apple opened i...   5749\n",
       "4    Our engineering teams in Austin are hard at wo...  27578\n",
       "..                                                 ...    ...\n",
       "195  Congratulations to the cast and crew of @TedLa...  12333\n",
       "196  One of my all-time favorite shows is back! Cat...   4218\n",
       "197  Always great to chat with you @iJustine! So gl...  14361\n",
       "198  Introducing iPhone 13 and iPhone 13 Pro, all-n...  35800\n",
       "199  Good morning from somewhere a little different...  47734\n",
       "\n",
       "[200 rows x 2 columns]"
      ]
     },
     "execution_count": 23,
     "metadata": {},
     "output_type": "execute_result"
    }
   ],
   "source": [
    "df"
   ]
  },
  {
   "cell_type": "markdown",
   "metadata": {},
   "source": [
    "2. Show the overall distribution of his tweets' like counts"
   ]
  },
  {
   "cell_type": "code",
   "execution_count": 24,
   "metadata": {},
   "outputs": [
    {
     "name": "stderr",
     "output_type": "stream",
     "text": [
      "D:\\Anaconda Python\\lib\\site-packages\\seaborn\\distributions.py:2619: FutureWarning: `distplot` is a deprecated function and will be removed in a future version. Please adapt your code to use either `displot` (a figure-level function with similar flexibility) or `histplot` (an axes-level function for histograms).\n",
      "  warnings.warn(msg, FutureWarning)\n"
     ]
    },
    {
     "data": {
      "image/png": "[encoded data removed]",
      "text/plain": [
       "<Figure size 432x288 with 1 Axes>"
      ]
     },
     "metadata": {},
     "output_type": "display_data"
    }
   ],
   "source": [
    "from sklearn.datasets import load_diabetes\n",
    "\n",
    "sns.set()\n",
    "\n",
    "\n",
    "#Get Data\n",
    "data = load_diabetes()\n",
    "X, y_ = data.data, likes\n",
    "\n",
    "#Organize Data\n",
    "SR_y = pd.Series(y_, name=\"Likes\")\n",
    "\n",
    "#Plot Data\n",
    "fig, ax = plt.subplots()\n",
    "sns.distplot(SR_y, bins=25, color=\"g\", ax=ax)\n",
    "plt.show()"
   ]
  },
  {
   "cell_type": "markdown",
   "metadata": {},
   "source": [
    "3. What's his most liked tweet? What's its sentiment score?"
   ]
  },
  {
   "cell_type": "code",
   "execution_count": 25,
   "metadata": {},
   "outputs": [],
   "source": [
    "def sentiment_analyzer_scores(text):\n",
    "    analyzer = SentimentIntensityAnalyzer()\n",
    "    score = analyzer.polarity_scores(text)\n",
    "    return score['compound']\n",
    "\n",
    "# apply the function to create the score column\n",
    "df['score'] = df['tweet_list'].apply(lambda x: sentiment_analyzer_scores(x))"
   ]
  },
  {
   "cell_type": "code",
   "execution_count": 26,
   "metadata": {},
   "outputs": [],
   "source": [
    "values = ['positive', 'neutral', 'negative']\n",
    "\n",
    "df.loc[df['score'] > 0, 'Sentiment'] = 'positive'\n",
    "df.loc[df['score'] < 0, 'Sentiment'] = 'negative'\n",
    "df.loc[df['score'] == 0, 'Sentiment'] = 'neutral'"
   ]
  },
  {
   "cell_type": "code",
   "execution_count": 27,
   "metadata": {},
   "outputs": [
    {
     "data": {
      "text/html": [
       "<div>\n",
       "<style scoped>\n",
       "    .dataframe tbody tr th:only-of-type {\n",
       "        vertical-align: middle;\n",
       "    }\n",
       "\n",
       "    .dataframe tbody tr th {\n",
       "        vertical-align: top;\n",
       "    }\n",
       "\n",
       "    .dataframe thead th {\n",
       "        text-align: right;\n",
       "    }\n",
       "</style>\n",
       "<table border=\"1\" class=\"dataframe\">\n",
       "  <thead>\n",
       "    <tr style=\"text-align: right;\">\n",
       "      <th></th>\n",
       "      <th>tweet_list</th>\n",
       "      <th>likes</th>\n",
       "      <th>score</th>\n",
       "      <th>Sentiment</th>\n",
       "    </tr>\n",
       "  </thead>\n",
       "  <tbody>\n",
       "    <tr>\n",
       "      <th>96</th>\n",
       "      <td>Eid Mubarak to everyone celebrating around the...</td>\n",
       "      <td>68942</td>\n",
       "      <td>0.9583</td>\n",
       "      <td>positive</td>\n",
       "    </tr>\n",
       "  </tbody>\n",
       "</table>\n",
       "</div>"
      ],
      "text/plain": [
       "                                           tweet_list  likes   score Sentiment\n",
       "96  Eid Mubarak to everyone celebrating around the...  68942  0.9583  positive"
      ]
     },
     "execution_count": 27,
     "metadata": {},
     "output_type": "execute_result"
    }
   ],
   "source": [
    "df1 = df.sort_values(by=['likes'], ascending=False)\n",
    "\n",
    "df1.head(1)"
   ]
  },
  {
   "cell_type": "code",
   "execution_count": 28,
   "metadata": {},
   "outputs": [
    {
     "name": "stdout",
     "output_type": "stream",
     "text": [
      "The most liked tweet is 68942 and its sentiment score is 0.9583 and Sentement is positive tweet\n"
     ]
    }
   ],
   "source": [
    "print('The most liked tweet is '+ str(df1['likes'][96])+' and its sentiment score is '+ str(df1['score'][96])+' and Sentement is '+str(df1['Sentiment'][96])+' tweet')"
   ]
  }
 ],
 "metadata": {
  "colab": {
   "collapsed_sections": [],
   "provenance": []
  },
  "kernelspec": {
   "display_name": "Python 3 (ipykernel)",
   "language": "python",
   "name": "python3"
  },
  "language_info": {
   "codemirror_mode": {
    "name": "ipython",
    "version": 3
   },
   "file_extension": ".py",
   "mimetype": "text/x-python",
   "name": "python",
   "nbconvert_exporter": "python",
   "pygments_lexer": "ipython3",
   "version": "3.9.12"
  }
 },
 "nbformat": 4,
 "nbformat_minor": 1
}
